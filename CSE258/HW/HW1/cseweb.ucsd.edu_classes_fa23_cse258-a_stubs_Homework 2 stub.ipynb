{
 "cells": [
  {
   "cell_type": "code",
   "execution_count": null,
   "id": "d998586d",
   "metadata": {},
   "outputs": [],
   "source": [
    "import random\n",
    "from sklearn import linear_model\n",
    "from matplotlib import pyplot as plt\n",
    "from collections import defaultdict\n",
    "import gzip"
   ]
  },
  {
   "cell_type": "code",
   "execution_count": null,
   "id": "f17a95c1",
   "metadata": {},
   "outputs": [],
   "source": [
    "def assertFloat(x):\n",
    "    assert type(float(x)) == float\n",
    "\n",
    "def assertFloatList(items, N):\n",
    "    assert len(items) == N\n",
    "    assert [type(float(x)) for x in items] == [float]*N"
   ]
  },
  {
   "cell_type": "code",
   "execution_count": null,
   "id": "4a87f98f-715c-4bc5-9b06-ac92e1ad7a22",
   "metadata": {},
   "outputs": [],
   "source": [
    "answers = {}"
   ]
  },
  {
   "cell_type": "code",
   "execution_count": null,
   "id": "a851f13d-134a-4ce4-8bd2-df5f606ac9dd",
   "metadata": {},
   "outputs": [],
   "source": [
    "def parseData(fname):\n",
    "    for l in open(fname):\n",
    "        yield eval(l)"
   ]
  },
  {
   "cell_type": "code",
   "execution_count": null,
   "id": "ba796d3e-294d-403c-8b81-b3f4a85523d4",
   "metadata": {},
   "outputs": [],
   "source": [
    "data = list(parseData(\"beer_50000.json\"))"
   ]
  },
  {
   "cell_type": "code",
   "execution_count": null,
   "id": "6100b434-b50d-4dff-b986-61ce07aa6a39",
   "metadata": {},
   "outputs": [],
   "source": [
    "random.seed(0)\n",
    "random.shuffle(data)"
   ]
  },
  {
   "cell_type": "code",
   "execution_count": null,
   "id": "a6e9582d-279e-4a0d-bcad-e85018bd4ffb",
   "metadata": {},
   "outputs": [],
   "source": [
    "dataTrain = data[:25000]\n",
    "dataValid = data[25000:37500]\n",
    "dataTest = data[37500:]"
   ]
  },
  {
   "cell_type": "code",
   "execution_count": null,
   "id": "d3b17174-8ad6-4a98-ac3f-1a431c730cfd",
   "metadata": {},
   "outputs": [],
   "source": [
    "yTrain = [d['beer/ABV'] > 7 for d in dataTrain]\n",
    "yValid = [d['beer/ABV'] > 7 for d in dataValid]\n",
    "yTest = [d['beer/ABV'] > 7 for d in dataTest]"
   ]
  },
  {
   "cell_type": "code",
   "execution_count": null,
   "id": "9c3c2547-047d-4e15-ac5d-4abe64a91a6a",
   "metadata": {},
   "outputs": [],
   "source": []
  },
  {
   "cell_type": "code",
   "execution_count": null,
   "id": "a7712018-f883-4a4c-9ba0-9ae9287c6b31",
   "metadata": {},
   "outputs": [],
   "source": [
    "categoryCounts = defaultdict(int)\n",
    "for d in data:\n",
    "    categoryCounts[d['beer/style']] += 1"
   ]
  },
  {
   "cell_type": "code",
   "execution_count": null,
   "id": "e82da2c2-43a6-4269-87a3-5fd5ef92f3b0",
   "metadata": {},
   "outputs": [],
   "source": [
    "categories = [c for c in categoryCounts if categoryCounts[c] > 1000]"
   ]
  },
  {
   "cell_type": "code",
   "execution_count": null,
   "id": "1c838c5c-6c59-4049-8201-68c376dd4295",
   "metadata": {},
   "outputs": [],
   "source": [
    "catID = dict(zip(list(categories),range(len(categories))))"
   ]
  },
  {
   "cell_type": "code",
   "execution_count": null,
   "id": "b7bbafdd-9c35-4b24-8d7c-1474430bcb06",
   "metadata": {},
   "outputs": [],
   "source": []
  },
  {
   "cell_type": "code",
   "execution_count": null,
   "id": "7dbd03fa-5329-405f-9023-7690f9a45c86",
   "metadata": {},
   "outputs": [],
   "source": [
    "def feat(d, includeCat = True, includeReview = True, includeLength = True):\n",
    "    # In my solution, I wrote a reusable function that takes parameters to generate features for each question\n",
    "    # Feel free to keep or discard"
   ]
  },
  {
   "cell_type": "code",
   "execution_count": null,
   "id": "8f8b3562-5ca9-4648-855c-7b597273b25f",
   "metadata": {},
   "outputs": [],
   "source": [
    "def pipeline(reg, includeCat = True, includeReview = True, includeLength = True):\n",
    "    # ..."
   ]
  },
  {
   "cell_type": "code",
   "execution_count": null,
   "id": "14486a0e-c501-4988-abb5-ab70c1cd3e66",
   "metadata": {},
   "outputs": [],
   "source": [
    "### Question 1"
   ]
  },
  {
   "cell_type": "code",
   "execution_count": null,
   "id": "900cb7ce-fb76-401d-a95e-66053bed0445",
   "metadata": {},
   "outputs": [],
   "source": [
    "mod, validBER, testBER = pipeline(10, True, False, False)"
   ]
  },
  {
   "cell_type": "code",
   "execution_count": null,
   "id": "cf2571b3-6999-4714-a4aa-62dab31937bb",
   "metadata": {},
   "outputs": [],
   "source": [
    "answers['Q1'] = [validBER, testBER]"
   ]
  },
  {
   "cell_type": "code",
   "execution_count": null,
   "id": "f899b683-3a9c-4f65-9167-54938589f12c",
   "metadata": {},
   "outputs": [],
   "source": [
    "assertFloatList(answers['Q1'], 2)"
   ]
  },
  {
   "cell_type": "code",
   "execution_count": null,
   "id": "a5724e91-cbd9-4e44-8a20-7a8cc350c1a4",
   "metadata": {},
   "outputs": [],
   "source": [
    "### Question 2"
   ]
  },
  {
   "cell_type": "code",
   "execution_count": null,
   "id": "f707bfa2-cdd6-43fd-8bff-724e1a28f185",
   "metadata": {},
   "outputs": [],
   "source": [
    "mod, validBER, testBER = "
   ]
  },
  {
   "cell_type": "code",
   "execution_count": null,
   "id": "23daba7d-3f75-4d50-b393-34992f4710cc",
   "metadata": {},
   "outputs": [],
   "source": [
    "answers['Q2'] = [validBER, testBER]"
   ]
  },
  {
   "cell_type": "code",
   "execution_count": null,
   "id": "ecb8d0b4-d4c8-4419-a7c1-febb78fd44f5",
   "metadata": {},
   "outputs": [],
   "source": [
    "assertFloatList(answers['Q2'], 2)"
   ]
  },
  {
   "cell_type": "code",
   "execution_count": null,
   "id": "6e65d346-5020-429b-90ed-4d52d7c97b4f",
   "metadata": {},
   "outputs": [],
   "source": [
    "### Question 3"
   ]
  },
  {
   "cell_type": "code",
   "execution_count": null,
   "id": "c97f0b41-0914-4649-984f-252e03ff9b08",
   "metadata": {},
   "outputs": [],
   "source": [
    "for c in [0.001, 0.01, 0.1, 1, 10]:\n",
    "    # ..."
   ]
  },
  {
   "cell_type": "code",
   "execution_count": null,
   "id": "0d0f5628-46f4-430d-8e84-99a97b9d81a2",
   "metadata": {},
   "outputs": [],
   "source": [
    "bestC = "
   ]
  },
  {
   "cell_type": "code",
   "execution_count": null,
   "id": "06ae5223-330b-42f0-bce3-66fe2526e126",
   "metadata": {},
   "outputs": [],
   "source": [
    "mod, validBER, testBER = "
   ]
  },
  {
   "cell_type": "code",
   "execution_count": null,
   "id": "812e0e27-424f-4389-9a65-d19d470910cd",
   "metadata": {},
   "outputs": [],
   "source": [
    "answers['Q3'] = [bestC, validBER, testBER]"
   ]
  },
  {
   "cell_type": "code",
   "execution_count": null,
   "id": "362bb32f-f81e-4f3e-9c8b-24b6beeee794",
   "metadata": {},
   "outputs": [],
   "source": [
    "assertFloatList(answers['Q3'], 3)"
   ]
  },
  {
   "cell_type": "code",
   "execution_count": null,
   "id": "6e31986b-646d-4bac-b578-517c6f2c02b9",
   "metadata": {},
   "outputs": [],
   "source": [
    "### Question 4"
   ]
  },
  {
   "cell_type": "code",
   "execution_count": null,
   "id": "e13dfbba-c13e-4e60-b243-6f7145096dd8",
   "metadata": {},
   "outputs": [],
   "source": [
    "mod, validBER, testBER_noCat = "
   ]
  },
  {
   "cell_type": "code",
   "execution_count": null,
   "id": "d2c4f168-c3e6-4d1c-ad39-7804ff5a1a5f",
   "metadata": {},
   "outputs": [],
   "source": [
    "mod, validBER, testBER_noReview = "
   ]
  },
  {
   "cell_type": "code",
   "execution_count": null,
   "id": "bc7c86a0-2e6a-48bc-828a-8b805786a41d",
   "metadata": {},
   "outputs": [],
   "source": [
    "mod, validBER, testBER_noLength = "
   ]
  },
  {
   "cell_type": "code",
   "execution_count": null,
   "id": "b3f5794b-10c9-41b3-bbf4-05b346fffcfb",
   "metadata": {},
   "outputs": [],
   "source": [
    "answers['Q4'] = [testBER_noCat, testBER_noReview, testBER_noLength]"
   ]
  },
  {
   "cell_type": "code",
   "execution_count": null,
   "id": "0c3a712d-90cd-4a67-afe1-cca63b84e498",
   "metadata": {},
   "outputs": [],
   "source": [
    "assertFloatList(answers['Q4'], 3)"
   ]
  },
  {
   "cell_type": "code",
   "execution_count": null,
   "id": "614e7747-143a-43e5-a0bd-1709c3bc4b50",
   "metadata": {},
   "outputs": [],
   "source": [
    "### Question 5"
   ]
  },
  {
   "cell_type": "code",
   "execution_count": null,
   "id": "fe681798-bbd6-4d9b-ae30-f1431b9bebaf",
   "metadata": {},
   "outputs": [],
   "source": [
    "path = \"amazon_reviews_us_Musical_Instruments_v1_00.tsv.gz\"\n",
    "f = gzip.open(path, 'rt', encoding=\"utf8\")\n",
    "\n",
    "header = f.readline()\n",
    "header = header.strip().split('\\t')"
   ]
  },
  {
   "cell_type": "code",
   "execution_count": null,
   "id": "36a79b1c-a4bf-4e5d-bc5d-e5e9bfd333f3",
   "metadata": {},
   "outputs": [],
   "source": [
    "header"
   ]
  },
  {
   "cell_type": "code",
   "execution_count": null,
   "id": "01c5fd53-ddd9-4f65-b602-f33dcd411ab2",
   "metadata": {},
   "outputs": [],
   "source": [
    "dataset = []\n",
    "\n",
    "for line in f:\n",
    "    fields = line.strip().split('\\t')\n",
    "    d = dict(zip(header, fields))\n",
    "    d['star_rating'] = int(d['star_rating'])\n",
    "    d['helpful_votes'] = int(d['helpful_votes'])\n",
    "    d['total_votes'] = int(d['total_votes'])\n",
    "    dataset.append(d)"
   ]
  },
  {
   "cell_type": "code",
   "execution_count": null,
   "id": "1d3c0175-41bc-4267-be22-0dd98136345a",
   "metadata": {},
   "outputs": [],
   "source": [
    "dataTrain = dataset[:int(len(dataset)*0.9)]\n",
    "dataTest = dataset[int(len(dataset)*0.9):]"
   ]
  },
  {
   "cell_type": "code",
   "execution_count": null,
   "id": "f3440cf1-2366-4d69-a4ae-a8ca5e2ea9f5",
   "metadata": {},
   "outputs": [],
   "source": [
    "# Feel free to keep or discard\n",
    "\n",
    "usersPerItem = defaultdict(set) # Maps an item to the users who rated it\n",
    "itemsPerUser = defaultdict(set) # Maps a user to the items that they rated\n",
    "itemNames = {}\n",
    "ratingDict = {} # To retrieve a rating for a specific user/item pair\n",
    "reviewsPerUser = defaultdict(list)\n",
    "\n",
    "for d in dataTrain:\n",
    "    # ...\n",
    "\n",
    "for d in dataset:\n",
    "    # ..."
   ]
  },
  {
   "cell_type": "code",
   "execution_count": null,
   "id": "62880122-0f22-43c6-afca-fdc9699e97f4",
   "metadata": {},
   "outputs": [],
   "source": [
    "userAverages = {}\n",
    "itemAverages = {}\n",
    "\n",
    "for u in itemsPerUser:\n",
    "    # ...\n",
    "    \n",
    "for i in usersPerItem:\n",
    "    # ...\n",
    "\n",
    "ratingMean = "
   ]
  },
  {
   "cell_type": "code",
   "execution_count": null,
   "id": "9415da7b-4a56-4093-a5bd-eea40d99e3f7",
   "metadata": {},
   "outputs": [],
   "source": [
    "def Jaccard(s1, s2):\n",
    "    # ..."
   ]
  },
  {
   "cell_type": "code",
   "execution_count": null,
   "id": "83816a03-6c51-4d1d-ae08-9490d4d38b70",
   "metadata": {},
   "outputs": [],
   "source": [
    "def mostSimilar(i, N):\n",
    "    # ..."
   ]
  },
  {
   "cell_type": "code",
   "execution_count": null,
   "id": "5680865b-5249-4834-b019-3628857510a5",
   "metadata": {},
   "outputs": [],
   "source": [
    "query = 'B00KCHRKD6'"
   ]
  },
  {
   "cell_type": "code",
   "execution_count": null,
   "id": "38b430ca-4e4b-4a1e-b38c-2a1c448dbdef",
   "metadata": {},
   "outputs": [],
   "source": [
    "ms = mostSimilar(query, 10)"
   ]
  },
  {
   "cell_type": "code",
   "execution_count": null,
   "id": "2b8d21ce-2cec-460f-bbdf-e943a9cbed6a",
   "metadata": {},
   "outputs": [],
   "source": [
    "answers['Q5'] = ms"
   ]
  },
  {
   "cell_type": "code",
   "execution_count": null,
   "id": "57b7fb52-248a-4d11-a924-b8744aecd7a1",
   "metadata": {},
   "outputs": [],
   "source": [
    "assertFloatList([m[0] for m in ms], 10)"
   ]
  },
  {
   "cell_type": "code",
   "execution_count": null,
   "id": "1e6fe1df-9464-4dc9-a58e-b6b1a6168803",
   "metadata": {},
   "outputs": [],
   "source": [
    "### Question 6"
   ]
  },
  {
   "cell_type": "code",
   "execution_count": null,
   "id": "fe6c50d2-22b2-44cb-b29b-e08ac999d947",
   "metadata": {},
   "outputs": [],
   "source": [
    "def MSE(y, ypred):\n",
    "    # ..."
   ]
  },
  {
   "cell_type": "code",
   "execution_count": null,
   "id": "4247a1f0-189d-44d3-80c4-a21669673f90",
   "metadata": {},
   "outputs": [],
   "source": [
    "def predictRating(user,item):\n",
    "    # ..."
   ]
  },
  {
   "cell_type": "code",
   "execution_count": null,
   "id": "242de977-3b55-4ffb-9300-5f0cc8c30424",
   "metadata": {},
   "outputs": [],
   "source": [
    "alwaysPredictMean = "
   ]
  },
  {
   "cell_type": "code",
   "execution_count": null,
   "id": "6dd35154-0402-44ee-be29-cab6699c2f1a",
   "metadata": {},
   "outputs": [],
   "source": [
    "simPredictions = "
   ]
  },
  {
   "cell_type": "code",
   "execution_count": null,
   "id": "003fa11f-0c3a-4af2-80f1-d400863c067d",
   "metadata": {},
   "outputs": [],
   "source": [
    "labels = "
   ]
  },
  {
   "cell_type": "code",
   "execution_count": null,
   "id": "209333fb-2e1f-422c-8e7f-e8815424f023",
   "metadata": {},
   "outputs": [],
   "source": []
  },
  {
   "cell_type": "code",
   "execution_count": null,
   "id": "31e6735d-4e79-4584-adfa-4c4497a84a4a",
   "metadata": {},
   "outputs": [],
   "source": [
    "answers['Q6'] = MSE(simPredictions, labels)"
   ]
  },
  {
   "cell_type": "code",
   "execution_count": null,
   "id": "01b6b0eb-575c-4d4f-8a2a-8fefafe873f9",
   "metadata": {},
   "outputs": [],
   "source": [
    "assertFloat(answers['Q6'])"
   ]
  },
  {
   "cell_type": "code",
   "execution_count": null,
   "id": "5268ae3a-b7b9-4b52-ba37-6d6363261396",
   "metadata": {},
   "outputs": [],
   "source": [
    "### Question 7"
   ]
  },
  {
   "cell_type": "code",
   "execution_count": null,
   "id": "81dc3028-770b-4741-abf9-789205c07eb7",
   "metadata": {},
   "outputs": [],
   "source": [
    "itsMSE = 1000"
   ]
  },
  {
   "cell_type": "code",
   "execution_count": null,
   "id": "5bd20307-5913-46d5-930d-53caf359f685",
   "metadata": {},
   "outputs": [],
   "source": [
    "answers['Q7'] = [\"Description of your solution\", itsMSE]"
   ]
  },
  {
   "cell_type": "code",
   "execution_count": null,
   "id": "98c31bb6-e8f8-4f9f-ac15-2e120f24613d",
   "metadata": {},
   "outputs": [],
   "source": [
    "assertFloat(answers['Q7'][1])"
   ]
  },
  {
   "cell_type": "code",
   "execution_count": null,
   "id": "a9cdbf74",
   "metadata": {},
   "outputs": [],
   "source": [
    "f = open(\"answers_hw2.txt\", 'w')\n",
    "f.write(str(answers) + '\\n')\n",
    "f.close()"
   ]
  },
  {
   "cell_type": "code",
   "execution_count": null,
   "id": "2ec77684-ccf1-4f77-abd4-526d42fb4e35",
   "metadata": {},
   "outputs": [],
   "source": []
  }
 ],
 "metadata": {
  "kernelspec": {
   "display_name": "Python 3 (ipykernel)",
   "language": "python",
   "name": "python3"
  },
  "language_info": {
   "codemirror_mode": {
    "name": "ipython",
    "version": 3
   },
   "file_extension": ".py",
   "mimetype": "text/x-python",
   "name": "python",
   "nbconvert_exporter": "python",
   "pygments_lexer": "ipython3",
   "version": "3.10.6"
  }
 },
 "nbformat": 4,
 "nbformat_minor": 5
}
